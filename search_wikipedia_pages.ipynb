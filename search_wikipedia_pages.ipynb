{
 "cells": [
  {
   "cell_type": "code",
   "execution_count": 1,
   "id": "46470105-bb37-4b6a-b51d-19758e4b796e",
   "metadata": {
    "tags": []
   },
   "outputs": [],
   "source": [
    "import requests\n",
    "import matplotlib.pyplot as plt\n",
    "import pandas as pd\n",
    "import json\n",
    "\n",
    "##This is a function that finds the name of the wikipedia articles based on a list of words"
   ]
  },
  {
   "cell_type": "code",
   "execution_count": 2,
   "id": "36fac0d7-5cf3-455c-baab-6ebee5ceea86",
   "metadata": {
    "tags": []
   },
   "outputs": [],
   "source": [
    "def search_wikipedia_pages(query):\n",
    "    base_url = \"https://en.wikipedia.org/w/api.php\"\n",
    "    params = {\n",
    "        'action': 'opensearch',\n",
    "        'format': 'json',\n",
    "        'search': query,\n",
    "    }\n",
    "\n",
    "    response = requests.get(base_url, params=params)\n",
    "    data = response.json()\n",
    "\n",
    "    search_results = zip(data[1], data[2])\n",
    "\n",
    "    if not search_results:\n",
    "        print(f\"No Wikipedia pages found for '{query}'.\")\n",
    "        return\n",
    "\n",
    "    print(f\"Wikipedia pages related to '{query}':\")\n",
    "    for title in search_results:\n",
    "        print(f\"Title: {title}\\n\")"
   ]
  },
  {
   "cell_type": "code",
   "execution_count": 3,
   "id": "34a239bf-39d5-4ec3-8509-dea10c483552",
   "metadata": {
    "tags": []
   },
   "outputs": [
    {
     "name": "stdout",
     "output_type": "stream",
     "text": [
      "Wikipedia pages related to 'covid':\n",
      "Title: ('COVID-19', '')\n",
      "\n",
      "Title: ('COVID-19 pandemic', '')\n",
      "\n",
      "Title: ('COVID-19 vaccine', '')\n",
      "\n",
      "Title: ('COVID-19 pandemic by country and territory', '')\n",
      "\n",
      "Title: ('COVID-19 pandemic in the United States', '')\n",
      "\n",
      "Title: ('COVID-19 pandemic in India', '')\n",
      "\n",
      "Title: ('COVID-19 testing', '')\n",
      "\n",
      "Title: ('COVID-19 pandemic in the United Kingdom', '')\n",
      "\n",
      "Title: ('COVID-19 misinformation', '')\n",
      "\n",
      "Title: ('COVID-19 lockdown in India', '')\n",
      "\n"
     ]
    }
   ],
   "source": [
    "##example usage:\n",
    "search_wikipedia_pages(\"covid\")"
   ]
  },
  {
   "cell_type": "code",
   "execution_count": null,
   "id": "c45b895b-175e-45cb-8d77-ccebc23e50a4",
   "metadata": {},
   "outputs": [],
   "source": []
  }
 ],
 "metadata": {
  "kernelspec": {
   "display_name": "Python3",
   "language": "python",
   "name": "python3"
  },
  "language_info": {
   "codemirror_mode": {
    "name": "ipython",
    "version": 3
   },
   "file_extension": ".py",
   "mimetype": "text/x-python",
   "name": "python",
   "nbconvert_exporter": "python",
   "pygments_lexer": "ipython3",
   "version": "3.11.5"
  }
 },
 "nbformat": 4,
 "nbformat_minor": 5
}
