{
 "cells": [
  {
   "cell_type": "code",
   "execution_count": 1,
   "id": "ed5131ff-82d0-4ad6-ac70-51fb1fb1c7fd",
   "metadata": {},
   "outputs": [],
   "source": [
    "from pylab import  * \n",
    "import pandas as pd\n",
    "import datetime\n",
    "import plotly.express as px\n",
    "import matplotlib.pyplot as plt\n",
    "from matplotlib.dates import AutoDateLocator, DateFormatter\n",
    "import numpy as np\n",
    "from datetime import datetime, timedelta\n",
    "import requests\n",
    "import json\n",
    "import matplotlib.dates as mdates\n",
    "import ast"
   ]
  },
  {
   "cell_type": "code",
   "execution_count": null,
   "id": "f77e8d78-10b2-4cdd-9b33-6f85b8b0fec8",
   "metadata": {},
   "outputs": [],
   "source": [
    "source       = \"Data/\"\n",
    "es_countries = [\"ES\", \"AR\", \"BO\", \"CL\", \"CO\",\"EC\",\"PY\",\"PE\", \"UY\", \"VE\", \"MX\"]\n",
    "pt_countries = [\"PT\", \"BR\"]\n",
    "it_countries = [\"IT\",\"CH\"]\n",
    "en_countries = [\"US\", \"GB\", \"CA\"]\n",
    "fr_countries = [\"FR\",\"CH\"]\n",
    "\n",
    "analyzed_countries = es_countries + pt_countries + it_countries + en_countries + fr_countries\n",
    "\n",
    "def global_df(year,analyzed_countries ):\n",
    "    df_csv_append = []\n",
    "    for i in analyzed_countries:\n",
    "        df  =  pd.read_csv(source + \"Region_Mobility_Report_CSVs/{0}_{1}_Region_Mobility_Report.csv\".format(year, i),low_memory=False)\n",
    "        df_csv_append.append(df)\n",
    "    consolidated_global = pd.concat(df_csv_append, ignore_index=True)\n",
    "    return consolidated_global\n",
    "\n",
    "\n",
    "def df_countries(consolidated_global_2020,countries_query):\n",
    "    consolidated_global_2020['time'] = pd.to_datetime(consolidated_global_2020['date'], format='ISO8601')\n",
    "    mobility=consolidated_global_2020[consolidated_global_2020[\"country_region_code\"].isin(countries_query)].groupby(\"date\")[['retail_and_recreation_percent_change_from_baseline',\n",
    "           'grocery_and_pharmacy_percent_change_from_baseline',\n",
    "           'parks_percent_change_from_baseline',\n",
    "           'transit_stations_percent_change_from_baseline',\n",
    "           'workplaces_percent_change_from_baseline',\n",
    "           'residential_percent_change_from_baseline']].mean()\n",
    "    mobility['time'] = pd.to_datetime(mobility.index, format='%Y/%m/%d')\n",
    "    \n",
    "    return mobility\n",
    "    \n",
    "year = 2020\n",
    "consolidated_global_2020 = global_df(year,analyzed_countries)\n",
    "year = 2022\n",
    "consolidated_global_2021 = global_df(year,analyzed_countries)"
   ]
  },
  {
   "cell_type": "code",
   "execution_count": null,
   "id": "38142e3e-9535-4334-9c23-f1bc42d0ad38",
   "metadata": {},
   "outputs": [],
   "source": [
    "\n",
    "countries_query   = es_countries\n",
    "esp_mobility_2020 = df_countries(consolidated_global_2020,countries_query)\n",
    "esp_mobility_2021 = df_countries(consolidated_global_2021,countries_query)\n",
    "esp_mobility_2020[\"language\"]=\"ES\"\n",
    "esp_mobility_2021[\"language\"]=\"ES\"\n",
    "\n",
    "countries_query  = fr_countries\n",
    "fr_mobility_2020 = df_countries(consolidated_global_2020,countries_query)\n",
    "fr_mobility_2021 = df_countries(consolidated_global_2021,countries_query)\n",
    "fr_mobility_2020[\"language\"]=\"FR\"\n",
    "fr_mobility_2021[\"language\"]=\"FR\"\n",
    "\n",
    "countries_query  = it_countries\n",
    "it_mobility_2020 = df_countries(consolidated_global_2020,countries_query)\n",
    "it_mobility_2021 = df_countries(consolidated_global_2021,countries_query)\n",
    "it_mobility_2020[\"language\"]=\"IT\"\n",
    "it_mobility_2021[\"language\"]=\"IT\"\n",
    "\n",
    "countries_query  = en_countries\n",
    "en_mobility_2020 = df_countries(consolidated_global_2020,countries_query)\n",
    "en_mobility_2021 = df_countries(consolidated_global_2021,countries_query)\n",
    "en_mobility_2020[\"language\"]=\"EN\"\n",
    "en_mobility_2021[\"language\"]=\"EN\"\n",
    "\n",
    "mobility_scope = pd.concat([esp_mobility_2020,esp_mobility_2021,fr_mobility_2020,fr_mobility_2021,it_mobility_2020, it_mobility_2021,\\\n",
    "                           en_mobility_2020, en_mobility_2021])\n",
    "mobility_scope.to_csv(\"mobility_2020_2022.csv\")"
   ]
  },
  {
   "cell_type": "code",
   "execution_count": null,
   "id": "1c37f79f-2c77-4573-be8c-246a96565e86",
   "metadata": {},
   "outputs": [],
   "source": [
    "fr_mobility_2020"
   ]
  },
  {
   "cell_type": "code",
   "execution_count": null,
   "id": "21791f00-04c5-403f-8c2d-1b756aa1707a",
   "metadata": {},
   "outputs": [],
   "source": [
    "# 'grocery_and_pharmacy,\n",
    "# 'parks,\n",
    "# 'transit_stations',\n",
    "# 'workplaces',\n",
    "# 'residential.\n",
    "# retail_and_recreation\n",
    "\n",
    "\n",
    "topic_analyzed = \"retail_and_recreation\"\n",
    "\n",
    "plot(fr_mobility_2020[\"time\"], \\\n",
    "     fr_mobility_2020[topic_analyzed+ '_percent_change_from_baseline'], label=\"French\")\n",
    "plot(fr_mobility_2021[\"time\"], \\\n",
    "     fr_mobility_2021[topic_analyzed+ '_percent_change_from_baseline'], label=\"French\")\n",
    "\n",
    "# plot(it_mobility_2020[\"time\"][0:20000], \\\n",
    "#      it_mobility_2020[topic_analyzed+ '_percent_change_from_baseline'][0:20000], label=\"Italian\")\n",
    "# plot(esp_mobility_2020[\"time\"][0:20000], \\\n",
    "#      esp_mobility_2020[topic_analyzed+ '_percent_change_from_baseline'][0:20000], label=\"Spanish\")\n",
    "# legend()\n",
    "# plot(esp_mobility_2020[\"time\"][0:20000], \\\n",
    "#      esp_mobility_2020[topic_analyzed+ '_percent_change_from_baseline'][0:20000], label=\"English\")\n",
    "\n",
    "\n",
    "legend()\n",
    "\n",
    "\n",
    "locator = AutoDateLocator(minticks=5, maxticks=12)  # Adjust min and max ticks as needed\n",
    "plt.gca().xaxis.set_major_locator(locator)\n",
    "\n",
    "# Formatting the date labels\n",
    "date_format = DateFormatter('%b-%Y')\n",
    "\n",
    "plt.gca().xaxis.set_major_formatter(date_format)\n",
    "plt.gcf().autofmt_xdate()\n",
    "\n",
    "# Adding labels and title\n",
    "xlabel('Date')\n",
    "ylabel('Values')\n",
    "\n",
    "start_date = datetime(2020, 2, 1)\n",
    "end_date = datetime(2020, 9, 1)\n",
    "# xlim(start_date, end_date)"
   ]
  },
  {
   "cell_type": "markdown",
   "id": "72200397-c9d4-4421-9819-ab0cdf07e13d",
   "metadata": {},
   "source": [
    "# Generalization "
   ]
  },
  {
   "cell_type": "code",
   "execution_count": null,
   "id": "35d659b4-8961-4050-8342-7b05a264ba45",
   "metadata": {},
   "outputs": [],
   "source": []
  },
  {
   "cell_type": "code",
   "execution_count": null,
   "id": "b928cba6-5621-4c68-acf0-1da7dd8908d2",
   "metadata": {},
   "outputs": [],
   "source": []
  },
  {
   "cell_type": "code",
   "execution_count": null,
   "id": "259170c9-0eeb-4cfa-85c3-a5aa6c81e332",
   "metadata": {},
   "outputs": [],
   "source": []
  },
  {
   "cell_type": "code",
   "execution_count": null,
   "id": "cfa64302-4e54-428f-b2a3-004da6d790db",
   "metadata": {},
   "outputs": [],
   "source": []
  },
  {
   "cell_type": "code",
   "execution_count": null,
   "id": "719a9472-a61f-41d6-a196-84e99da9b3bd",
   "metadata": {},
   "outputs": [],
   "source": []
  },
  {
   "cell_type": "code",
   "execution_count": null,
   "id": "b10d6d99-4f25-4445-bc42-9e277dfddd6e",
   "metadata": {},
   "outputs": [],
   "source": []
  }
 ],
 "metadata": {
  "kernelspec": {
   "display_name": "Python 3 (ipykernel)",
   "language": "python",
   "name": "python3"
  },
  "language_info": {
   "codemirror_mode": {
    "name": "ipython",
    "version": 3
   },
   "file_extension": ".py",
   "mimetype": "text/x-python",
   "name": "python",
   "nbconvert_exporter": "python",
   "pygments_lexer": "ipython3",
   "version": "3.9.18"
  }
 },
 "nbformat": 4,
 "nbformat_minor": 5
}
